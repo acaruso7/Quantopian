{
 "cells": [
  {
   "cell_type": "markdown",
   "metadata": {},
   "source": [
    "## Portfolio Variance Sample Calculation"
   ]
  },
  {
   "cell_type": "markdown",
   "metadata": {},
   "source": [
    "In this notebook, a the portfolio variance will be calculated for a theoretical portfolio of 5 tech stocks, with random weights assigned, over the past 5 years."
   ]
  },
  {
   "cell_type": "code",
   "execution_count": 1,
   "metadata": {},
   "outputs": [],
   "source": [
    "import numpy as np\n",
    "import pandas as pd\n",
    "from pandas_datareader import data\n",
    "import matplotlib.pyplot as plt"
   ]
  },
  {
   "cell_type": "markdown",
   "metadata": {},
   "source": [
    "#### Get Data From Yahoo Finance & Calculate Daily Returns"
   ]
  },
  {
   "cell_type": "code",
   "execution_count": 13,
   "metadata": {},
   "outputs": [
    {
     "data": {
      "text/html": [
       "<div>\n",
       "<style scoped>\n",
       "    .dataframe tbody tr th:only-of-type {\n",
       "        vertical-align: middle;\n",
       "    }\n",
       "\n",
       "    .dataframe tbody tr th {\n",
       "        vertical-align: top;\n",
       "    }\n",
       "\n",
       "    .dataframe thead th {\n",
       "        text-align: right;\n",
       "    }\n",
       "</style>\n",
       "<table border=\"1\" class=\"dataframe\">\n",
       "  <thead>\n",
       "    <tr style=\"text-align: right;\">\n",
       "      <th></th>\n",
       "      <th>MSFT</th>\n",
       "      <th>GOOG</th>\n",
       "      <th>FB</th>\n",
       "      <th>AAPL</th>\n",
       "      <th>AMZN</th>\n",
       "    </tr>\n",
       "    <tr>\n",
       "      <th>Date</th>\n",
       "      <th></th>\n",
       "      <th></th>\n",
       "      <th></th>\n",
       "      <th></th>\n",
       "      <th></th>\n",
       "    </tr>\n",
       "  </thead>\n",
       "  <tbody>\n",
       "    <tr>\n",
       "      <th>2014-03-03</th>\n",
       "      <td>33.609142</td>\n",
       "      <td>597.459106</td>\n",
       "      <td>67.410004</td>\n",
       "      <td>66.669823</td>\n",
       "      <td>359.779999</td>\n",
       "    </tr>\n",
       "    <tr>\n",
       "      <th>2014-03-04</th>\n",
       "      <td>34.169590</td>\n",
       "      <td>603.529602</td>\n",
       "      <td>68.800003</td>\n",
       "      <td>67.109421</td>\n",
       "      <td>363.899994</td>\n",
       "    </tr>\n",
       "    <tr>\n",
       "      <th>2014-03-05</th>\n",
       "      <td>33.902721</td>\n",
       "      <td>605.193787</td>\n",
       "      <td>71.570000</td>\n",
       "      <td>67.250908</td>\n",
       "      <td>372.369995</td>\n",
       "    </tr>\n",
       "    <tr>\n",
       "      <th>2014-03-06</th>\n",
       "      <td>33.938305</td>\n",
       "      <td>605.864441</td>\n",
       "      <td>70.839996</td>\n",
       "      <td>67.047539</td>\n",
       "      <td>372.160004</td>\n",
       "    </tr>\n",
       "    <tr>\n",
       "      <th>2014-03-07</th>\n",
       "      <td>33.715904</td>\n",
       "      <td>603.470032</td>\n",
       "      <td>69.800003</td>\n",
       "      <td>67.008354</td>\n",
       "      <td>372.059998</td>\n",
       "    </tr>\n",
       "  </tbody>\n",
       "</table>\n",
       "</div>"
      ],
      "text/plain": [
       "                 MSFT        GOOG         FB       AAPL        AMZN\n",
       "Date                                                               \n",
       "2014-03-03  33.609142  597.459106  67.410004  66.669823  359.779999\n",
       "2014-03-04  34.169590  603.529602  68.800003  67.109421  363.899994\n",
       "2014-03-05  33.902721  605.193787  71.570000  67.250908  372.369995\n",
       "2014-03-06  33.938305  605.864441  70.839996  67.047539  372.160004\n",
       "2014-03-07  33.715904  603.470032  69.800003  67.008354  372.059998"
      ]
     },
     "metadata": {},
     "output_type": "display_data"
    },
    {
     "data": {
      "text/html": [
       "<div>\n",
       "<style scoped>\n",
       "    .dataframe tbody tr th:only-of-type {\n",
       "        vertical-align: middle;\n",
       "    }\n",
       "\n",
       "    .dataframe tbody tr th {\n",
       "        vertical-align: top;\n",
       "    }\n",
       "\n",
       "    .dataframe thead th {\n",
       "        text-align: right;\n",
       "    }\n",
       "</style>\n",
       "<table border=\"1\" class=\"dataframe\">\n",
       "  <thead>\n",
       "    <tr style=\"text-align: right;\">\n",
       "      <th></th>\n",
       "      <th>MSFT</th>\n",
       "      <th>GOOG</th>\n",
       "      <th>FB</th>\n",
       "      <th>AAPL</th>\n",
       "      <th>AMZN</th>\n",
       "    </tr>\n",
       "    <tr>\n",
       "      <th>Date</th>\n",
       "      <th></th>\n",
       "      <th></th>\n",
       "      <th></th>\n",
       "      <th></th>\n",
       "      <th></th>\n",
       "    </tr>\n",
       "  </thead>\n",
       "  <tbody>\n",
       "    <tr>\n",
       "      <th>2014-03-04</th>\n",
       "      <td>0.016675</td>\n",
       "      <td>0.010161</td>\n",
       "      <td>0.020620</td>\n",
       "      <td>0.006594</td>\n",
       "      <td>0.011451</td>\n",
       "    </tr>\n",
       "    <tr>\n",
       "      <th>2014-03-05</th>\n",
       "      <td>-0.007810</td>\n",
       "      <td>0.002757</td>\n",
       "      <td>0.040262</td>\n",
       "      <td>0.002108</td>\n",
       "      <td>0.023276</td>\n",
       "    </tr>\n",
       "    <tr>\n",
       "      <th>2014-03-06</th>\n",
       "      <td>0.001050</td>\n",
       "      <td>0.001108</td>\n",
       "      <td>-0.010200</td>\n",
       "      <td>-0.003024</td>\n",
       "      <td>-0.000564</td>\n",
       "    </tr>\n",
       "    <tr>\n",
       "      <th>2014-03-07</th>\n",
       "      <td>-0.006553</td>\n",
       "      <td>-0.003952</td>\n",
       "      <td>-0.014681</td>\n",
       "      <td>-0.000584</td>\n",
       "      <td>-0.000269</td>\n",
       "    </tr>\n",
       "    <tr>\n",
       "      <th>2014-03-10</th>\n",
       "      <td>-0.002111</td>\n",
       "      <td>-0.002651</td>\n",
       "      <td>0.031948</td>\n",
       "      <td>0.000905</td>\n",
       "      <td>-0.004112</td>\n",
       "    </tr>\n",
       "  </tbody>\n",
       "</table>\n",
       "</div>"
      ],
      "text/plain": [
       "                MSFT      GOOG        FB      AAPL      AMZN\n",
       "Date                                                        \n",
       "2014-03-04  0.016675  0.010161  0.020620  0.006594  0.011451\n",
       "2014-03-05 -0.007810  0.002757  0.040262  0.002108  0.023276\n",
       "2014-03-06  0.001050  0.001108 -0.010200 -0.003024 -0.000564\n",
       "2014-03-07 -0.006553 -0.003952 -0.014681 -0.000584 -0.000269\n",
       "2014-03-10 -0.002111 -0.002651  0.031948  0.000905 -0.004112"
      ]
     },
     "metadata": {},
     "output_type": "display_data"
    },
    {
     "data": {
      "image/png": "[encoded data removed]",
      "text/plain": [
       "<Figure size 432x288 with 1 Axes>"
      ]
     },
     "metadata": {},
     "output_type": "display_data"
    }
   ],
   "source": [
    "start_date = '2014-03-01'\n",
    "end_date = '2019-03-01'\n",
    "\n",
    "stocks = ['MSFT','GOOG','FB','AAPL','AMZN']\n",
    "df = pd.DataFrame()\n",
    "\n",
    "for stock in stocks:\n",
    "    df[stock] = data.DataReader(stock, 'yahoo', start_date, end_date)['Adj Close']\n",
    "display(df.head())    \n",
    "\n",
    "#calculate percentage returns\n",
    "df = df.pct_change()[1:]\n",
    "display(df.head())\n",
    "\n",
    "msft_returns = df['MSFT']\n",
    "goog_returns = df['GOOG']\n",
    "fb_returns = df['FB']\n",
    "aapl_returns = df['AAPL']\n",
    "amzn_returns = df['AMZN']\n",
    "\n",
    "plt.hist(msft_returns, bins=50)\n",
    "plt.xlabel('Return')\n",
    "plt.ylabel('Frequency')\n",
    "plt.legend(['MSFT Returns']);"
   ]
  },
  {
   "cell_type": "code",
   "execution_count": 14,
   "metadata": {},
   "outputs": [
    {
     "data": {
      "image/png": "[encoded data removed]",
      "text/plain": [
       "<Figure size 432x288 with 1 Axes>"
      ]
     },
     "metadata": {},
     "output_type": "display_data"
    }
   ],
   "source": [
    "plt.hist(goog_returns, bins=50)\n",
    "plt.xlabel('Return')\n",
    "plt.ylabel('Frequency')\n",
    "plt.legend(['GOOG Returns']);"
   ]
  },
  {
   "cell_type": "code",
   "execution_count": 15,
   "metadata": {},
   "outputs": [
    {
     "data": {
      "image/png": "[encoded data removed]",
      "text/plain": [
       "<Figure size 432x288 with 1 Axes>"
      ]
     },
     "metadata": {},
     "output_type": "display_data"
    }
   ],
   "source": [
    "plt.hist(fb_returns, bins=50)\n",
    "plt.xlabel('Return')\n",
    "plt.ylabel('Frequency')\n",
    "plt.legend(['FB Returns']);"
   ]
  },
  {
   "cell_type": "code",
   "execution_count": 16,
   "metadata": {},
   "outputs": [
    {
     "data": {
      "image/png": "[encoded data removed]",
      "text/plain": [
       "<Figure size 432x288 with 1 Axes>"
      ]
     },
     "metadata": {},
     "output_type": "display_data"
    }
   ],
   "source": [
    "plt.hist(aapl_returns, bins=50)\n",
    "plt.xlabel('Return')\n",
    "plt.ylabel('Frequency')\n",
    "plt.legend(['AAPL Returns']);"
   ]
  },
  {
   "cell_type": "code",
   "execution_count": 17,
   "metadata": {},
   "outputs": [
    {
     "data": {
      "image/png": "[encoded data removed]",
      "text/plain": [
       "<Figure size 432x288 with 1 Axes>"
      ]
     },
     "metadata": {},
     "output_type": "display_data"
    }
   ],
   "source": [
    "plt.hist(amzn_returns, bins=50)\n",
    "plt.xlabel('Return')\n",
    "plt.ylabel('Frequency')\n",
    "plt.legend(['AMZN Returns']);"
   ]
  },
  {
   "cell_type": "code",
   "execution_count": 18,
   "metadata": {},
   "outputs": [
    {
     "name": "stdout",
     "output_type": "stream",
     "text": [
      "Mean daily returns for  ['MSFT', 'GOOG', 'FB', 'AAPL', 'AMZN'] :  [0.0010679958906108823, 0.0006233171188832083, 0.0008714141805671392, 0.000885105418450464, 0.0014084842544898229]\n",
      "\n",
      "\n",
      "Return volatilities for  ['MSFT', 'GOOG', 'FB', 'AAPL', 'AMZN'] :  [0.014650976790017622, 0.014823478702645729, 0.018527298719851173, 0.015344381106437589, 0.01939491486614727]\n"
     ]
    },
    {
     "data": {
      "image/png": "[encoded data removed]",
      "text/plain": [
       "<Figure size 432x288 with 1 Axes>"
      ]
     },
     "metadata": {},
     "output_type": "display_data"
    }
   ],
   "source": [
    "#create numpy array of 0s to store returns\n",
    "returns = np.zeros((len(stocks), len(df)))\n",
    "cum_returns = np.zeros((len(stocks), len(df)))\n",
    "\n",
    "for i in range(0, len(stocks)): #N=10 - this represents the numer of assets\n",
    "    R_i = df.iloc[:,i]\n",
    "    returns[i] = R_i # Set each row of returns equal to the new R_i array\n",
    "    cum_returns[i] = np.cumprod(R_i)\n",
    "    \n",
    "mean_returns = [np.mean(R) for R in returns] #mean return of each of 5 assets over the last year\n",
    "return_volatilities = [np.std(R) for R in returns]\n",
    "\n",
    "print('Mean daily returns for ', str(stocks), ': ', str(mean_returns))\n",
    "print('\\n')\n",
    "print('Return volatilities for ', str(stocks), ': ', str(return_volatilities))\n",
    "\n",
    "plt.bar(stocks, mean_returns)\n",
    "plt.xlabel('Stock')\n",
    "plt.ylabel('Returns')\n",
    "plt.title('5 year Mean Daily Returns for MSFT, GOOG, FB, AAPL, AMZN');"
   ]
  },
  {
   "cell_type": "markdown",
   "metadata": {},
   "source": [
    "#### Calculate Expected Return of Portfolio"
   ]
  },
  {
   "cell_type": "code",
   "execution_count": 10,
   "metadata": {},
   "outputs": [
    {
     "name": "stdout",
     "output_type": "stream",
     "text": [
      "Weights assigned to MSFT, GOOG, FB, AAPL, AMZN, respectively:  [0.4226161  0.13056851 0.08023495 0.18458645 0.181994  ]\n",
      "Expected daily return of the portfolio:  0.1022 %\n",
      "Expected cumulative return of the portfolio over 5 years:  362.0 %\n"
     ]
    },
    {
     "data": {
      "image/png": "[encoded data removed]",
      "text/plain": [
       "<Figure size 432x288 with 1 Axes>"
      ]
     },
     "metadata": {},
     "output_type": "display_data"
    }
   ],
   "source": [
    "weights = np.random.uniform(0, 1, len(stocks)) #sample 5 weights from a uniform distribution between 0 and 1\n",
    "weights = weights/np.sum(weights) #this scales the weights so they all sum to 1\n",
    "print('Weights assigned to MSFT, GOOG, FB, AAPL, AMZN, respectively: ', weights)\n",
    "\n",
    "plt.bar(stocks, weights)\n",
    "plt.xlabel('Stock')\n",
    "plt.ylabel('Portfolio Weight')\n",
    "plt.title('Portfolio weights assigned to MSFT, GOOG, FB, AAPL, AMZN');\n",
    "\n",
    "p_returns = np.dot(weights, mean_returns) #weighted sum of mean returns over the last year\n",
    "print(\"Expected daily return of the portfolio: \", round(p_returns*100,4), \"%\")\n",
    "print(\"Expected cumulative return of the portfolio over 5 years: \", round((1+p_returns)**(len(df)),2)*100, '%')"
   ]
  },
  {
   "cell_type": "markdown",
   "metadata": {},
   "source": [
    "#### Calculate Portfolio Variance & Volatility\n",
    "$$ VAR[P] = \\sigma_P^2 = \\sum_i \\omega_i^2\\sigma_i^2 + \\sum_i\\sum_{i\\neq j} \\omega_i\\omega_j\\sigma_i\\sigma_j\\rho_{i, j}, \\ i, j \\in \\lbrace 1, 2, \\cdots, N \\rbrace $$\n",
    "<br>\n",
    "$$ \\sigma_p^2 = \\omega \\ C \\ \\omega^\\intercal$$"
   ]
  },
  {
   "cell_type": "code",
   "execution_count": 11,
   "metadata": {},
   "outputs": [
    {
     "name": "stdout",
     "output_type": "stream",
     "text": [
      "Portfolio volatility (standard deviation):  1.3 %\n"
     ]
    }
   ],
   "source": [
    "cov_mat = np.cov(returns) #this will be a 5x5 matrix, since there are 5 columns in returns\n",
    "# print(cov_mat.shape)\n",
    "# print(cov_mat)\n",
    "\n",
    "# Calculating the portfolio volatility\n",
    "var_p = np.dot(np.dot(weights, cov_mat), weights.T)\n",
    "vol_p = np.sqrt(var_p)\n",
    "print(\"Portfolio volatility (standard deviation): \", round(vol_p*100,2), '%')"
   ]
  }
 ],
 "metadata": {
  "kernelspec": {
   "display_name": "Python 3",
   "language": "python",
   "name": "python3"
  },
  "language_info": {
   "codemirror_mode": {
    "name": "ipython",
    "version": 3
   },
   "file_extension": ".py",
   "mimetype": "text/x-python",
   "name": "python",
   "nbconvert_exporter": "python",
   "pygments_lexer": "ipython3",
   "version": "3.6.5"
  }
 },
 "nbformat": 4,
 "nbformat_minor": 2
}
