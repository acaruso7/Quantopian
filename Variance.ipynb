{
 "cells": [
  {
   "cell_type": "markdown",
   "metadata": {},
   "source": [
    "# Exercises: Variance\n",
    "By Christopher van Hoecke, Maxwell Margenot, and Delaney Mackenzie\n",
    "\n",
    "## Lecture Link :\n",
    "https://www.quantopian.com/lectures/variance\n",
    "\n",
    "### IMPORTANT NOTE: \n",
    "This lecture corresponds to the Variance lecture, which is part of the Quantopian lecture series. This homework expects you to rely heavily on the code presented in the corresponding lecture. Please copy and paste regularly from that lecture when starting to work on the problems, as trying to do them from scratch will likely be too difficult.\n",
    "\n",
    "Part of the Quantopian Lecture Series:\n",
    "\n",
    "* [www.quantopian.com/lectures](https://www.quantopian.com/lectures)\n",
    "* [github.com/quantopian/research_public](https://github.com/quantopian/research_public)\n",
    "\n",
    "-----"
   ]
  },
  {
   "cell_type": "code",
   "execution_count": 1,
   "metadata": {},
   "outputs": [],
   "source": [
    "# Useful Libraries\n",
    "import pandas as pd\n",
    "import numpy as np\n",
    "import matplotlib.pyplot as plt"
   ]
  },
  {
   "cell_type": "markdown",
   "metadata": {},
   "source": [
    "#### Data:"
   ]
  },
  {
   "cell_type": "code",
   "execution_count": 2,
   "metadata": {},
   "outputs": [],
   "source": [
    "X = np.random.randint(100, size = 100)"
   ]
  },
  {
   "cell_type": "markdown",
   "metadata": {},
   "source": [
    "---"
   ]
  },
  {
   "cell_type": "markdown",
   "metadata": {},
   "source": [
    "# Exercise 1: \n",
    "Using the skills aquired in the lecture series, find the following parameters of the list X above:\n",
    "- Range\n",
    "- Mean Absolute Deviation\n",
    "- Variance and Standard Deviation\n",
    "- Semivariance and Semideviation\n",
    "- Target variance (with B = 60)"
   ]
  },
  {
   "cell_type": "code",
   "execution_count": 3,
   "metadata": {},
   "outputs": [
    {
     "name": "stdout",
     "output_type": "stream",
     "text": [
      "Range of X: 99\n"
     ]
    }
   ],
   "source": [
    "# Range of X\n",
    "range_X = np.ptp(X)\n",
    "\n",
    "print('Range of X: %s' %(range_X))"
   ]
  },
  {
   "cell_type": "code",
   "execution_count": 4,
   "metadata": {},
   "outputs": [
    {
     "name": "stdout",
     "output_type": "stream",
     "text": [
      "Mean absolute deviation of X: 25.048200000000005\n"
     ]
    }
   ],
   "source": [
    "# Mean Absolute Deviation\n",
    "# First calculate the value of mu (the mean)\n",
    "\n",
    "mu = np.mean(X)\n",
    "\n",
    "abs_dispersion = [np.abs(mu - x) for x in X]\n",
    "MAD = np.sum(abs_dispersion)/len(abs_dispersion)\n",
    "print('Mean absolute deviation of X:', MAD)"
   ]
  },
  {
   "cell_type": "code",
   "execution_count": 7,
   "metadata": {},
   "outputs": [
    {
     "name": "stdout",
     "output_type": "stream",
     "text": [
      "Variance using numpy:  838.8419\n",
      "Variance of X (manually calculated): 838.8419\n",
      "Standard deviation of X: 28.962767478264226\n"
     ]
    }
   ],
   "source": [
    "# Variance and standard deviation\n",
    "\n",
    "## Your code goes here\n",
    "sumsq = sum([((x-mu)**2) for x in X])\n",
    "var = sumsq / len(X)\n",
    "print('Variance using numpy: ', np.var(X))\n",
    "\n",
    "print('Variance of X (manually calculated):', var)\n",
    "print('Standard deviation of X:', np.sqrt(var))"
   ]
  },
  {
   "cell_type": "code",
   "execution_count": 8,
   "metadata": {},
   "outputs": [
    {
     "name": "stdout",
     "output_type": "stream",
     "text": [
      "Semivariance of X: 863.2864673469389\n",
      "Semideviation of X: 29.381736969534987\n"
     ]
    }
   ],
   "source": [
    "# Semivariance and semideviation\n",
    "\n",
    "## Your code goes here\n",
    "lows = [x for x in X if x <= mu] #observations less than the mean\n",
    "\n",
    "semivar = np.sum( (lows - mu) ** 2 ) / len(lows)\n",
    "\n",
    "print('Semivariance of X:',  semivar)\n",
    "print('Semideviation of X:', np.sqrt(semivar))"
   ]
  },
  {
   "cell_type": "code",
   "execution_count": 10,
   "metadata": {},
   "outputs": [
    {
     "name": "stdout",
     "output_type": "stream",
     "text": [
      "Target semivariance of X: 1301.4918032786886\n",
      "Target semideviation of X: 36.076194412364075\n"
     ]
    }
   ],
   "source": [
    "# Target variance\n",
    "\n",
    "## Your code goes here\n",
    "B = 60\n",
    "lows_B = [e for e in X if e <= B] #observations less than some target value B\n",
    "semivar_B = sum(map(lambda x: (x - B)**2,lows_B))/len(lows_B)\n",
    "\n",
    "\n",
    "print('Target semivariance of X:', semivar_B)\n",
    "print('Target semideviation of X:', np.sqrt(semivar_B))"
   ]
  },
  {
   "cell_type": "markdown",
   "metadata": {},
   "source": [
    "---"
   ]
  },
  {
   "cell_type": "markdown",
   "metadata": {},
   "source": [
    "# Exercise 2:\n",
    "Using the skills aquired in the lecture series, find the following parameters of prices for AT&T stock over a year:\n",
    "- 30 days rolling variance \n",
    "- 15 days rolling Standard Deviation"
   ]
  },
  {
   "cell_type": "code",
   "execution_count": 11,
   "metadata": {},
   "outputs": [],
   "source": [
    "from pandas_datareader import data\n",
    "\n",
    "symbol = \"T\"\n",
    "start = '2016-01-01'\n",
    "end = '2017-01-01'\n",
    "prices = data.DataReader(symbol, 'yahoo', start, end)['Open']"
   ]
  },
  {
   "cell_type": "code",
   "execution_count": 14,
   "metadata": {},
   "outputs": [
    {
     "name": "stdout",
     "output_type": "stream",
     "text": [
      "Date\n",
      "2016-02-17    1.378742\n",
      "2016-02-18    1.415923\n",
      "2016-02-19    1.420879\n",
      "2016-02-22    1.364934\n",
      "2016-02-23    1.311962\n",
      "2016-02-24    1.228357\n",
      "2016-02-25    1.199116\n",
      "2016-02-26    1.175276\n",
      "2016-02-29    1.072191\n",
      "2016-03-01    0.907862\n",
      "Name: Open, dtype: float64\n"
     ]
    }
   ],
   "source": [
    "# Rolling variance\n",
    "\n",
    "## Your code goes here\n",
    "roll_var30 = prices.rolling(30).var()\n",
    "print(roll_var30[30:40])"
   ]
  },
  {
   "cell_type": "code",
   "execution_count": 15,
   "metadata": {},
   "outputs": [
    {
     "name": "stdout",
     "output_type": "stream",
     "text": [
      "Date\n",
      "2016-01-26    0.498418\n",
      "2016-01-27    0.541330\n",
      "2016-01-28    0.663138\n",
      "2016-01-29    0.719707\n",
      "2016-02-01    0.796015\n",
      "2016-02-02    0.847058\n",
      "2016-02-03    0.890244\n",
      "2016-02-04    0.966022\n",
      "2016-02-05    0.975196\n",
      "2016-02-08    0.920395\n",
      "Name: Open, dtype: float64\n"
     ]
    }
   ],
   "source": [
    "# Rolling standard deviation\n",
    "\n",
    "## Your code goes here\n",
    "roll_std15 = prices.rolling(15).std()\n",
    "print(roll_std15[15:25])"
   ]
  },
  {
   "cell_type": "markdown",
   "metadata": {},
   "source": [
    "---"
   ]
  },
  {
   "cell_type": "markdown",
   "metadata": {},
   "source": [
    "# Exercise 3 : \n",
    "The portfolio variance is calculated as\n",
    "\n",
    "$$\\text{VAR}_p = \\text{VAR}_{s1} (w_1^2) + \\text{VAR}_{s2}(w_2^2) + \\text{COV}_{S_1, S_2} (2 w_1 w_2)$$\n",
    "\n",
    "Where $w_1$ and $w_2$ are the weights of $S_1$ and $S_2$.\n",
    "\n",
    "Find values of $w_1$ and $w_2$ to have a portfolio variance of 50. "
   ]
  },
  {
   "cell_type": "code",
   "execution_count": 18,
   "metadata": {},
   "outputs": [
    {
     "name": "stdout",
     "output_type": "stream",
     "text": [
      "Portfolio variance:  19.072797725071194\n",
      "Portfolio Volatility:  4.367241431964942\n"
     ]
    }
   ],
   "source": [
    "start = '2016-01-01'\n",
    "end = '2017-01-01'\n",
    "asset1 = data.DataReader('AAPL', 'yahoo', start, end)['Open']\n",
    "asset2 = data.DataReader('XLF', 'yahoo', start, end)['Open']\n",
    "\n",
    "cov = np.cov(asset1, asset2)[0,1]\n",
    "\n",
    "w1 = 0.5 #equal weight allocation\n",
    "w2 = 1 - w1\n",
    "\n",
    "v1 = np.var(asset1)\n",
    "v2 = np.var(asset2)\n",
    "\n",
    "pvariance = (w1**2)*v1+(w2**2)*v2+(2*w1*w2)*cov\n",
    "\n",
    "print('Portfolio variance: ', pvariance)\n",
    "print('Portfolio Volatility: ', np.sqrt(pvariance))"
   ]
  },
  {
   "cell_type": "markdown",
   "metadata": {},
   "source": [
    "---\n",
    "\n",
    "Congratulations on completing the Variance exercises!\n",
    "\n",
    "As you learn more about writing trading models and the Quantopian platform, enter a daily [Quantopian Contest](https://www.quantopian.com/contest). Your strategy will be evaluated for a cash prize every day.\n",
    "\n",
    "Start by going through the [Writing a Contest Algorithm](https://www.quantopian.com/tutorials/contest) tutorial."
   ]
  },
  {
   "cell_type": "markdown",
   "metadata": {},
   "source": [
    "*This presentation is for informational purposes only and does not constitute an offer to sell, a solicitation to buy, or a recommendation for any security; nor does it constitute an offer to provide investment advisory or other services by Quantopian, Inc. (\"Quantopian\"). Nothing contained herein constitutes investment advice or offers any opinion with respect to the suitability of any security, and any views expressed herein should not be taken as advice to buy, sell, or hold any security or as an endorsement of any security or company.  In preparing the information contained herein, Quantopian, Inc. has not taken into account the investment needs, objectives, and financial circumstances of any particular investor. Any views expressed and data illustrated herein were prepared based upon information, believed to be reliable, available to Quantopian, Inc. at the time of publication. Quantopian makes no guarantees as to their accuracy or completeness. All information is subject to change and may quickly become unreliable for various reasons, including changes in market conditions or economic circumstances.*"
   ]
  }
 ],
 "metadata": {
  "kernelspec": {
   "display_name": "Python 3",
   "language": "python",
   "name": "python3"
  },
  "language_info": {
   "codemirror_mode": {
    "name": "ipython",
    "version": 3
   },
   "file_extension": ".py",
   "mimetype": "text/x-python",
   "name": "python",
   "nbconvert_exporter": "python",
   "pygments_lexer": "ipython3",
   "version": "3.6.5"
  }
 },
 "nbformat": 4,
 "nbformat_minor": 2
}
